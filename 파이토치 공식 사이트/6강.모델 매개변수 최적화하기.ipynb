{
 "cells": [
  {
   "cell_type": "markdown",
   "metadata": {},
   "source": [
    "데이터에 매개변수를 최적화하여 모델을 학습하고, 검증하고 테스트할 차례! <br>\n",
    "파라미터들을 최적화(Optimize)"
   ]
  },
  {
   "cell_type": "code",
   "execution_count": 1,
   "metadata": {},
   "outputs": [],
   "source": [
    "import torch\n",
    "from torch import nn\n",
    "from torch.utils.data import DataLoader\n",
    "from torchvision import datasets\n",
    "from torchvision.transforms import ToTensor\n",
    "\n",
    "training_data = datasets.FashionMNIST(\n",
    "    root=\"data\",\n",
    "    train=True,\n",
    "    download=True,\n",
    "    transform=ToTensor()\n",
    ")\n",
    "\n",
    "test_data = datasets.FashionMNIST(\n",
    "    root=\"data\",\n",
    "    train=False,\n",
    "    download=True,\n",
    "    transform=ToTensor()\n",
    ")\n",
    "\n",
    "train_dataloader = DataLoader(training_data, batch_size=64)\n",
    "test_dataloader = DataLoader(test_data, batch_size=64)\n",
    "\n",
    "class NeuralNetwork(nn.Module):\n",
    "    def __init__(self):\n",
    "        super(NeuralNetwork, self).__init__()\n",
    "        self.flatten = nn.Flatten()\n",
    "        self.linear_relu_stack = nn.Sequential(\n",
    "            nn.Linear(28*28, 512),\n",
    "            nn.ReLU(),\n",
    "            nn.Linear(512, 512),\n",
    "            nn.ReLU(),\n",
    "            nn.Linear(512, 10),\n",
    "        )\n",
    "\n",
    "    def forward(self, x):\n",
    "        x = self.flatten(x)\n",
    "        logits = self.linear_relu_stack(x)\n",
    "        return logits\n",
    "\n",
    "model = NeuralNetwork()"
   ]
  },
  {
   "cell_type": "markdown",
   "metadata": {},
   "source": [
    "# 하이퍼파라미터"
   ]
  },
  {
   "cell_type": "markdown",
   "metadata": {},
   "source": [
    "하이퍼파라미터는 모델 최적화 과정을 제어할 수 있는 조절 가능한 매개변수\n",
    "학습 시에는 다음과 같은 하이퍼파라미터를 정의 <br>\n",
    "* epoch: 데이터셋을 반복하는 횟수 <br>\n",
    "* batch size: 매개변수가 갱신되기 전 신경망을 통해 전파된 데이터 샘플의 수<br>\n",
    "* learning rate: 각 배치/에폭에서 모델의 매개변수를 조절하는 비율"
   ]
  },
  {
   "cell_type": "code",
   "execution_count": 2,
   "metadata": {},
   "outputs": [],
   "source": [
    "learning_rate = 1e-3\n",
    "batch_size = 64\n",
    "epochs = 5\n"
   ]
  },
  {
   "cell_type": "markdown",
   "metadata": {},
   "source": [
    "# 최적화 단계 (Optimization Loop)"
   ]
  },
  {
   "cell_type": "markdown",
   "metadata": {},
   "source": [
    "* Train Loop: 학습용 데이터셋을 반복하고 최적의 매개변수로 수렴\n",
    "* Validation/Test Loop: 모델 성능이 개선되고 있는지를 확인하기 위해 테스트 데이터셋을 반복"
   ]
  },
  {
   "cell_type": "markdown",
   "metadata": {},
   "source": [
    "# 손실함수"
   ]
  },
  {
   "cell_type": "code",
   "execution_count": 3,
   "metadata": {},
   "outputs": [],
   "source": [
    "# 손실함수를 초기화\n",
    "loss_fn = nn.CrossEntropyLoss()"
   ]
  },
  {
   "cell_type": "markdown",
   "metadata": {},
   "source": [
    "# 옵티마이저 (Optimizer)"
   ]
  },
  {
   "cell_type": "markdown",
   "metadata": {},
   "source": [
    "최적화는 각 학습 단계에서 모델의 오류를 줄이기 위해 모델 배개변수를 조정하는 과정. 최적화 알고리즘은 이 과정이 수행되는 방식을 정의"
   ]
  },
  {
   "cell_type": "code",
   "execution_count": 4,
   "metadata": {},
   "outputs": [],
   "source": [
    "optimizer = torch.optim.SGD(model.parameters(), lr = learning_rate)"
   ]
  },
  {
   "cell_type": "markdown",
   "metadata": {},
   "source": [
    "😍😍Train에서 최적화는 세 단계로 이루어짐:\n",
    "* optimizer.zero_grad(): 모델 매개변수의 변화도를 재설정, 기본적으로 변화도는 더해지기(add up) 때문에 중복 계산을 막기 위해 반복할 때마다 명시적으로 0으로 설정\n",
    "* loss.backward(): 예측 손실(prediction loss)을 역전파. Pytorch는 각 매개변수에 대한 손실의 변화도를 저장\n",
    "* optimizer.step(): 역전파 단계에서 수집한 변화도로 매개변수를 조정\n"
   ]
  },
  {
   "cell_type": "code",
   "execution_count": 7,
   "metadata": {},
   "outputs": [],
   "source": [
    "def train_loop(dataloader, model, loss_fn, optimizer):\n",
    "    size = len(dataloader.dataset)\n",
    "    for batch, (X, y) in enumerate(dataloader):\n",
    "        # 예측(prediction)과 손실(loss) 계산\n",
    "        pred = model(X)\n",
    "        loss = loss_fn(pred, y)\n",
    "        \n",
    "        # 역전파\n",
    "        optimizer.zero_grad()\n",
    "        loss.backward()\n",
    "        optimizer.step()\n",
    "        \n",
    "        if batch % 100 == 0:\n",
    "            loss, current = loss.item(), (batch + 1) * len(X)\n",
    "            print('loss : {}, {}: {}'.format(loss, current, size))\n",
    "            \n",
    "def test_loop(dataloader, model, loss_fn):\n",
    "    size = len(dataloader.dataset)\n",
    "    num_batches = len(dataloader)\n",
    "    test_loss, correct = 0, 0\n",
    "    \n",
    "    with torch.no_grad():\n",
    "        for X, y in dataloader:\n",
    "            pred = model(X)\n",
    "            test_loss += loss_fn(pred, y).item()\n",
    "            correct += (pred.argmax(1) == y).type(torch.float).sum().item()\n",
    "            \n",
    "    test_loss /= num_batches\n",
    "    correct /= size\n",
    "    print(f\"Test Error: \\n Accuracy: {(100*correct):>0.1f}%, Avg loss: {test_loss:>8f} \\n\")"
   ]
  },
  {
   "cell_type": "code",
   "execution_count": 8,
   "metadata": {},
   "outputs": [
    {
     "name": "stdout",
     "output_type": "stream",
     "text": [
      "=====Epoch 0=====\n",
      "\n",
      "loss : 2.173855781555176, 64: 60000\n",
      "loss : 2.1565022468566895, 6464: 60000\n",
      "loss : 2.0992095470428467, 12864: 60000\n",
      "loss : 2.1105430126190186, 19264: 60000\n",
      "loss : 2.064605236053467, 25664: 60000\n",
      "loss : 2.012636184692383, 32064: 60000\n",
      "loss : 2.036026954650879, 38464: 60000\n",
      "loss : 1.967970371246338, 44864: 60000\n",
      "loss : 1.9683165550231934, 51264: 60000\n",
      "loss : 1.886704683303833, 57664: 60000\n",
      "Test Error: \n",
      " Accuracy: 57.6%, Avg loss: 1.889095 \n",
      "\n",
      "=====Epoch 1=====\n",
      "\n",
      "loss : 1.9296544790267944, 64: 60000\n",
      "loss : 1.8882620334625244, 6464: 60000\n",
      "loss : 1.7741279602050781, 12864: 60000\n",
      "loss : 1.8087595701217651, 19264: 60000\n",
      "loss : 1.6998146772384644, 25664: 60000\n",
      "loss : 1.6586521863937378, 32064: 60000\n",
      "loss : 1.6765905618667603, 38464: 60000\n",
      "loss : 1.5891015529632568, 44864: 60000\n",
      "loss : 1.60635507106781, 51264: 60000\n",
      "loss : 1.4916495084762573, 57664: 60000\n",
      "Test Error: \n",
      " Accuracy: 60.9%, Avg loss: 1.517055 \n",
      "\n",
      "=====Epoch 2=====\n",
      "\n",
      "loss : 1.589207649230957, 64: 60000\n",
      "loss : 1.546938180923462, 6464: 60000\n",
      "loss : 1.4026495218276978, 12864: 60000\n",
      "loss : 1.4658936262130737, 19264: 60000\n",
      "loss : 1.3461536169052124, 25664: 60000\n",
      "loss : 1.3464313745498657, 32064: 60000\n",
      "loss : 1.3574779033660889, 38464: 60000\n",
      "loss : 1.2944848537445068, 44864: 60000\n",
      "loss : 1.3207037448883057, 51264: 60000\n",
      "loss : 1.2189836502075195, 57664: 60000\n",
      "Test Error: \n",
      " Accuracy: 63.7%, Avg loss: 1.248717 \n",
      "\n",
      "=====Epoch 3=====\n",
      "\n",
      "loss : 1.3280580043792725, 64: 60000\n",
      "loss : 1.3055028915405273, 6464: 60000\n",
      "loss : 1.1461102962493896, 12864: 60000\n",
      "loss : 1.2439271211624146, 19264: 60000\n",
      "loss : 1.1164770126342773, 25664: 60000\n",
      "loss : 1.1440095901489258, 32064: 60000\n",
      "loss : 1.1655350923538208, 38464: 60000\n",
      "loss : 1.1144499778747559, 44864: 60000\n",
      "loss : 1.1464133262634277, 51264: 60000\n",
      "loss : 1.0638805627822876, 57664: 60000\n",
      "Test Error: \n",
      " Accuracy: 65.0%, Avg loss: 1.085059 \n",
      "\n",
      "=====Epoch 4=====\n",
      "\n",
      "loss : 1.1567970514297485, 64: 60000\n",
      "loss : 1.1551498174667358, 6464: 60000\n",
      "loss : 0.9799800515174866, 12864: 60000\n",
      "loss : 1.1076654195785522, 19264: 60000\n",
      "loss : 0.9771963953971863, 25664: 60000\n",
      "loss : 1.011612892150879, 32064: 60000\n",
      "loss : 1.0499273538589478, 38464: 60000\n",
      "loss : 1.0025303363800049, 44864: 60000\n",
      "loss : 1.0336897373199463, 51264: 60000\n",
      "loss : 0.9681406617164612, 57664: 60000\n",
      "Test Error: \n",
      " Accuracy: 65.9%, Avg loss: 0.980506 \n",
      "\n",
      "=====Epoch 5=====\n",
      "\n",
      "loss : 1.0393918752670288, 64: 60000\n",
      "loss : 1.0591264963150024, 6464: 60000\n",
      "loss : 0.8675320148468018, 12864: 60000\n",
      "loss : 1.017295002937317, 19264: 60000\n",
      "loss : 0.8896921277046204, 25664: 60000\n",
      "loss : 0.9199889898300171, 32064: 60000\n",
      "loss : 0.9748947024345398, 38464: 60000\n",
      "loss : 0.9303494095802307, 44864: 60000\n",
      "loss : 0.9553045630455017, 51264: 60000\n",
      "loss : 0.9035866856575012, 57664: 60000\n",
      "Test Error: \n",
      " Accuracy: 66.8%, Avg loss: 0.909203 \n",
      "\n",
      "=====Epoch 6=====\n",
      "\n",
      "loss : 0.9528060555458069, 64: 60000\n",
      "loss : 0.9925723671913147, 6464: 60000\n",
      "loss : 0.7871155738830566, 12864: 60000\n",
      "loss : 0.9531189799308777, 19264: 60000\n",
      "loss : 0.8311281204223633, 25664: 60000\n",
      "loss : 0.8537418246269226, 32064: 60000\n",
      "loss : 0.921402633190155, 38464: 60000\n",
      "loss : 0.8820152282714844, 44864: 60000\n",
      "loss : 0.8978764414787292, 51264: 60000\n",
      "loss : 0.8565391898155212, 57664: 60000\n",
      "Test Error: \n",
      " Accuracy: 67.9%, Avg loss: 0.857693 \n",
      "\n",
      "=====Epoch 7=====\n",
      "\n",
      "loss : 0.885915219783783, 64: 60000\n",
      "loss : 0.9426559209823608, 6464: 60000\n",
      "loss : 0.7266271114349365, 12864: 60000\n",
      "loss : 0.9050998687744141, 19264: 60000\n",
      "loss : 0.789546549320221, 25664: 60000\n",
      "loss : 0.8042279481887817, 32064: 60000\n",
      "loss : 0.8805426359176636, 38464: 60000\n",
      "loss : 0.8483898043632507, 44864: 60000\n",
      "loss : 0.8542243838310242, 51264: 60000\n",
      "loss : 0.8199251294136047, 57664: 60000\n",
      "Test Error: \n",
      " Accuracy: 69.4%, Avg loss: 0.818594 \n",
      "\n",
      "=====Epoch 8=====\n",
      "\n",
      "loss : 0.8323696255683899, 64: 60000\n",
      "loss : 0.9027318358421326, 6464: 60000\n",
      "loss : 0.6791641116142273, 12864: 60000\n",
      "loss : 0.8680238723754883, 19264: 60000\n",
      "loss : 0.758017897605896, 25664: 60000\n",
      "loss : 0.7660139799118042, 32064: 60000\n",
      "loss : 0.8475179076194763, 38464: 60000\n",
      "loss : 0.823453962802887, 44864: 60000\n",
      "loss : 0.8200069665908813, 51264: 60000\n",
      "loss : 0.7903591394424438, 57664: 60000\n",
      "Test Error: \n",
      " Accuracy: 70.6%, Avg loss: 0.787495 \n",
      "\n",
      "=====Epoch 9=====\n",
      "\n",
      "loss : 0.7879388332366943, 64: 60000\n",
      "loss : 0.8690306544303894, 6464: 60000\n",
      "loss : 0.6407081484794617, 12864: 60000\n",
      "loss : 0.8385069370269775, 19264: 60000\n",
      "loss : 0.7327049374580383, 25664: 60000\n",
      "loss : 0.7359223365783691, 32064: 60000\n",
      "loss : 0.81951504945755, 38464: 60000\n",
      "loss : 0.8038425445556641, 44864: 60000\n",
      "loss : 0.7922815680503845, 51264: 60000\n",
      "loss : 0.7654350399971008, 57664: 60000\n",
      "Test Error: \n",
      " Accuracy: 72.1%, Avg loss: 0.761713 \n",
      "\n",
      "Done!!\n"
     ]
    }
   ],
   "source": [
    "loss_fn = nn.CrossEntropyLoss()\n",
    "optimizer = torch.optim.SGD(model.parameters(), lr = learning_rate)\n",
    "\n",
    "epochs = 10\n",
    "for epoch in range(epochs):\n",
    "    print('=====Epoch {}=====\\n'.format(epoch))\n",
    "    train_loop(train_dataloader, model, loss_fn, optimizer)\n",
    "    test_loop(test_dataloader, model, loss_fn)\n",
    "print('Done!!')\n",
    "    "
   ]
  },
  {
   "cell_type": "code",
   "execution_count": null,
   "metadata": {},
   "outputs": [],
   "source": []
  },
  {
   "cell_type": "code",
   "execution_count": null,
   "metadata": {},
   "outputs": [],
   "source": []
  }
 ],
 "metadata": {
  "kernelspec": {
   "display_name": "base",
   "language": "python",
   "name": "python3"
  },
  "language_info": {
   "codemirror_mode": {
    "name": "ipython",
    "version": 3
   },
   "file_extension": ".py",
   "mimetype": "text/x-python",
   "name": "python",
   "nbconvert_exporter": "python",
   "pygments_lexer": "ipython3",
   "version": "3.9.13"
  }
 },
 "nbformat": 4,
 "nbformat_minor": 2
}
